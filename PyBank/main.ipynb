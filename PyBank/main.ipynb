{
 "cells": [
  {
   "cell_type": "code",
   "execution_count": null,
   "metadata": {},
   "outputs": [],
   "source": [
    "#import dependencies\n",
    "import os\n",
    "import csv\n",
    "\n",
    "#counter variables\n",
    "totalmonths=0\n",
    "totalprofit=0\n",
    "prev_revenue=0\n",
    "revenue_change_list=[]\n",
    "monthchanged=[]\n",
    "\n",
    "#import file via file path\n",
    "csvpath=os.path.join(\"Resources\", \"budget_data.csv\")\n",
    "\n",
    "#read csv\n",
    "with open(csvpath) as csvfile:\n",
    "    reader=csv.DictReader(csvfile)\n",
    "    for row in reader:\n",
    "        totalmonths = totalmonths + 1\n",
    "        thismonth = int(row['Profit/Losses'])\n",
    "        totalprofit = totalprofit + thismonth\n",
    "\n",
    "        # Track the revenue change\n",
    "        revenue_change =  thismonth - prev_revenue # taking the change \n",
    "        prev_revenue   = thismonth # reset the prev month for the next row \n",
    "\n",
    "        revenue_change_list.append(revenue_change)\n",
    "        monthchanged.append(row[\"Date\"])        \n",
    "maxRevChange = max(revenue_change_list)\n",
    "minRevChange = min(revenue_change_list)\n",
    "\n",
    "IndexMax = revenue_change_list.index(maxRevChange)\n",
    "GretestMonthInc = monthchanged[IndexMax]\n",
    "indexMin = revenue_change_list.index(minRevChange)\n",
    "GretestMonthDec = monthchanged[indexMin]\n",
    "\n",
    "# Calculate the Average Revenue Change\n",
    "revenue_avg = sum(revenue_change_list) / len(revenue_change_list)\n",
    "revenue_avgr=round(revenue_avg,2)\n",
    "# Generate Output Summary\n",
    "analysis = (\n",
    "\n",
    "f\"\\nFinancial Analysis\\n\"\n",
    "f\"----------------------------\\n\"\n",
    "f\"Total Months: {totalmonths}\\n\"\n",
    "f\"Total Revenue: ${totalprofit}\\n\"\n",
    "f\"Average Revenue Change: ${revenue_avgr}\\n\"\n",
    "f\"Greatest Increase in Revenue: {GretestMonthInc} (${maxRevChange})\\n\"\n",
    "f\"Greatest Decrease in Revenue: {GretestMonthDec} (${minRevChange})\\n\")\n",
    "\n",
    "print(analysis)\n",
    "\n",
    "file_to_output = \"Analysis\"\n",
    "\n",
    "# Export the results to text file\n",
    "with open(file_to_output, \"w\") as txt_file:\n",
    "    txt_file.write(analysis)"
   ]
  },
  {
   "cell_type": "code",
   "execution_count": null,
   "metadata": {},
   "outputs": [],
   "source": []
  },
  {
   "cell_type": "code",
   "execution_count": null,
   "metadata": {},
   "outputs": [],
   "source": []
  },
  {
   "cell_type": "code",
   "execution_count": null,
   "metadata": {},
   "outputs": [],
   "source": []
  },
  {
   "cell_type": "code",
   "execution_count": null,
   "metadata": {},
   "outputs": [],
   "source": []
  }
 ],
 "metadata": {
  "kernelspec": {
   "display_name": "Python 3",
   "language": "python",
   "name": "python3"
  },
  "language_info": {
   "codemirror_mode": {
    "name": "ipython",
    "version": 3
   },
   "file_extension": ".py",
   "mimetype": "text/x-python",
   "name": "python",
   "nbconvert_exporter": "python",
   "pygments_lexer": "ipython3",
   "version": "3.6.5"
  }
 },
 "nbformat": 4,
 "nbformat_minor": 2
}
